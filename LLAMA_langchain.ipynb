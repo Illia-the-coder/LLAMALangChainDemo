{
  "nbformat": 4,
  "nbformat_minor": 0,
  "metadata": {
    "colab": {
      "private_outputs": true,
      "provenance": []
    },
    "kernelspec": {
      "name": "python3",
      "display_name": "Python 3"
    },
    "language_info": {
      "name": "python"
    }
  },
  "cells": [
    {
      "cell_type": "markdown",
      "source": [
        "#Replicate\n",
        "In this section, we will use Replicate to run our LLM\n"
      ],
      "metadata": {
        "id": "R3PGTI2ZNOB6"
      }
    },
    {
      "cell_type": "code",
      "source": [
        "!pip install langchain replicate\n",
        "!export REPLICATE_API_TOKEN=r8_83aEpeImxhysqpdG8eqlKCslRiWgx5h439FRP"
      ],
      "metadata": {
        "id": "ZpBkTrYlIpvv"
      },
      "execution_count": null,
      "outputs": []
    },
    {
      "cell_type": "code",
      "source": [
        "import os\n",
        "\n",
        "#Set the REPLICATE_API_TOKEN environment variable\n",
        "os.environ[\"REPLICATE_API_TOKEN\"] = \"\"\n",
        "\n",
        "from langchain.llms import Replicate\n",
        "from langchain import PromptTemplate, LLMChain\n",
        "llmReplicate = Replicate(\n",
        "    model=\"a16z-infra/llama-2-13b-chat:df7690f1994d94e96ad9d568eac121aecf50684a0b0963b25a41cc40061269e5\",\n",
        "    input={\"temperature\": 0.75, \"max_length\": 4000, \"top_p\": 1},\n",
        ")"
      ],
      "metadata": {
        "id": "KMVmCrEPIogd"
      },
      "execution_count": null,
      "outputs": []
    },
    {
      "cell_type": "code",
      "source": [
        "llmReplicate(\"Who is Leo DiCaprio's girlfriend\")"
      ],
      "metadata": {
        "id": "UGup2aJpICU1"
      },
      "execution_count": null,
      "outputs": []
    },
    {
      "cell_type": "code",
      "source": [
        "from langchain.agents import load_tools\n",
        "from langchain.agents import initialize_agent\n",
        "from langchain.agents import AgentType\n",
        "from langchain.tools import AIPluginTool"
      ],
      "outputs": [],
      "execution_count": null,
      "metadata": {
        "id": "baYjWv9Iqgbf"
      }
    },
    {
      "cell_type": "code",
      "source": [
        "tools = load_tools([\"human\"],llm=llmReplicate)\n",
        "\n",
        "agent_chain = initialize_agent(\n",
        "    tools, llmReplicate, agent=AgentType.ZERO_SHOT_REACT_DESCRIPTION, handle_parsing_errors=True,verbose=True\n",
        ")"
      ],
      "metadata": {
        "id": "9NKPCKVhwoSS"
      },
      "execution_count": null,
      "outputs": []
    },
    {
      "cell_type": "code",
      "source": [
        "agent_chain.run(\"Who is Leo DiCaprio's girlfriend\")"
      ],
      "metadata": {
        "id": "kHTSH2FCK8eZ"
      },
      "execution_count": null,
      "outputs": []
    }
  ]
}